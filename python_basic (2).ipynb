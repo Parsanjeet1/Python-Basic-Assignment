{
  "nbformat": 4,
  "nbformat_minor": 0,
  "metadata": {
    "colab": {
      "provenance": []
    },
    "kernelspec": {
      "name": "python3",
      "display_name": "Python 3"
    },
    "language_info": {
      "name": "python"
    }
  },
  "cells": [
    {
      "cell_type": "markdown",
      "source": [
        "#Python Basic Assignment"
      ],
      "metadata": {
        "id": "Xyo3nPwlo-6u"
      }
    },
    {
      "cell_type": "markdown",
      "source": [
        "#PRACTICAL QESTIONS"
      ],
      "metadata": {
        "id": "vRjj9Adq4x7l"
      }
    },
    {
      "cell_type": "code",
      "execution_count": 19,
      "metadata": {
        "id": "1bn8Yam1nuep",
        "colab": {
          "base_uri": "https://localhost:8080/"
        },
        "outputId": "88dc4454-7952-4759-ee7c-99cd20670e5b"
      },
      "outputs": [
        {
          "output_type": "stream",
          "name": "stdout",
          "text": [
            "Hello, World!\n"
          ]
        }
      ],
      "source": [
        "#1. Write a Python program to print 'Hello, World!'\n",
        "print(\"Hello, World!\")"
      ]
    },
    {
      "cell_type": "code",
      "source": [
        "#2. Write a Python program that displays your name and age\n",
        "name = \"Parsanjeet\"\n",
        "age = 21\n",
        "print(\"Name:\", name)\n",
        "print(\"Age:\", age)"
      ],
      "metadata": {
        "id": "RD2e6tgN1Iu8",
        "colab": {
          "base_uri": "https://localhost:8080/"
        },
        "outputId": "e705eb44-a81c-4c91-c445-1c9c053a4893"
      },
      "execution_count": 20,
      "outputs": [
        {
          "output_type": "stream",
          "name": "stdout",
          "text": [
            "Name: Parsanjeet\n",
            "Age: 21\n"
          ]
        }
      ]
    },
    {
      "cell_type": "code",
      "source": [
        "#3. Write code to print all the pre-defined keywords in Python using the keyword library\n",
        "import keyword\n",
        "print(keyword.kwlist)"
      ],
      "metadata": {
        "id": "wcInEZOk1UTG",
        "colab": {
          "base_uri": "https://localhost:8080/"
        },
        "outputId": "50571847-4965-4a1d-9c50-c8474d94e421"
      },
      "execution_count": 21,
      "outputs": [
        {
          "output_type": "stream",
          "name": "stdout",
          "text": [
            "['False', 'None', 'True', 'and', 'as', 'assert', 'async', 'await', 'break', 'class', 'continue', 'def', 'del', 'elif', 'else', 'except', 'finally', 'for', 'from', 'global', 'if', 'import', 'in', 'is', 'lambda', 'nonlocal', 'not', 'or', 'pass', 'raise', 'return', 'try', 'while', 'with', 'yield']\n"
          ]
        }
      ]
    },
    {
      "cell_type": "code",
      "source": [
        "#4. Write a program that checks if a given word is a Python keyword.\n",
        "import keyword\n",
        "word = input(\"Enter a word: \")\n",
        "if keyword.iskeyword(word):\n",
        " print(f\"{word} is a Python keyword.\")\n",
        "else:\n",
        " print(f\"{word} is not a Python keyword.\")"
      ],
      "metadata": {
        "id": "xmzwdAoB1b-A",
        "colab": {
          "base_uri": "https://localhost:8080/"
        },
        "outputId": "64a24c9e-69c2-43f6-9725-ad9dfaf2fac6"
      },
      "execution_count": 22,
      "outputs": [
        {
          "output_type": "stream",
          "name": "stdout",
          "text": [
            "Enter a word: PW\n",
            "PW is not a Python keyword.\n"
          ]
        }
      ]
    },
    {
      "cell_type": "code",
      "source": [
        "#5. Create a list and tuple in Python, and demonstrate how attempting to change an element works diffrently for each.\n",
        "lst = [1, 2, 3]\n",
        "tup = (1, 2, 3)\n",
        "lst[0] = 10\n",
        "print(\"Modified list:\", lst)\n",
        "# tup[0] = 10 # This will raise an error\n",
        "print(\"Tuple:\", tup)\n"
      ],
      "metadata": {
        "id": "5KogOaKU1kfp",
        "colab": {
          "base_uri": "https://localhost:8080/"
        },
        "outputId": "494f1fe3-9f0d-446f-e1d7-cae71003d4b1"
      },
      "execution_count": 23,
      "outputs": [
        {
          "output_type": "stream",
          "name": "stdout",
          "text": [
            "Modified list: [10, 2, 3]\n",
            "Tuple: (1, 2, 3)\n"
          ]
        }
      ]
    },
    {
      "cell_type": "code",
      "source": [
        "#6. Write a function to demonstrate the behavior of mutable and immutable arguments.\n",
        "def modify_list(lst):\n",
        " lst.append(10)\n",
        "def modify_int(n):\n",
        " n += 1\n",
        "lst = [1, 2, 3]\n",
        "n = 5\n",
        "modify_list(lst)\n",
        "modify_int(n)\n",
        "print(\"List after modification:\", lst)\n",
        "print(\"Integer after modification:\", n)\n",
        "\n"
      ],
      "metadata": {
        "id": "vnabXxdn11kU",
        "colab": {
          "base_uri": "https://localhost:8080/"
        },
        "outputId": "4c5d4c97-15ef-43b2-c683-2940353e5899"
      },
      "execution_count": 24,
      "outputs": [
        {
          "output_type": "stream",
          "name": "stdout",
          "text": [
            "List after modification: [1, 2, 3, 10]\n",
            "Integer after modification: 5\n"
          ]
        }
      ]
    },
    {
      "cell_type": "code",
      "source": [
        "#7. Write a program that performs basic arithmetic operations on two user-input numbers.\n",
        "a = int(input(\"Enter first number: \"))\n",
        "b = int(input(\"Enter second number: \"))\n",
        "print(\"Sum:\", a + b)\n",
        "print(\"Difference:\", a - b)\n",
        "print(\"Product:\", a * b)\n",
        "print(\"Quotient:\", a / b)"
      ],
      "metadata": {
        "id": "Fs3EpKBD2g3B",
        "colab": {
          "base_uri": "https://localhost:8080/"
        },
        "outputId": "80c9aed2-3e1f-44f1-e758-a544c0539827"
      },
      "execution_count": 25,
      "outputs": [
        {
          "output_type": "stream",
          "name": "stdout",
          "text": [
            "Enter first number: 6\n",
            "Enter second number: 7\n",
            "Sum: 13\n",
            "Difference: -1\n",
            "Product: 42\n",
            "Quotient: 0.8571428571428571\n"
          ]
        }
      ]
    },
    {
      "cell_type": "code",
      "source": [
        "#8. Write a program to demonstrate the use of logical operators.\n",
        "x = 10\n",
        "y = 5\n",
        "print(x > 5 and y < 10)\n",
        "print(x > 15 or y < 10)\n",
        "print(not(x > 15))"
      ],
      "metadata": {
        "id": "dcUKfQVH2TIc",
        "colab": {
          "base_uri": "https://localhost:8080/"
        },
        "outputId": "266620ad-ef57-4156-e18f-5805c0266b6a"
      },
      "execution_count": 26,
      "outputs": [
        {
          "output_type": "stream",
          "name": "stdout",
          "text": [
            "True\n",
            "True\n",
            "True\n"
          ]
        }
      ]
    },
    {
      "cell_type": "code",
      "source": [
        "#9. Write a Python program to convert user input from string to integer, float, and boolean types.\n",
        "s = input(\"Enter a value: \")\n",
        "print(\"As integer:\", int(s))\n",
        "print(\"As float:\", float(s))\n",
        "print(\"As boolean:\", bool(s))"
      ],
      "metadata": {
        "id": "T9XZbGeM3PXu",
        "colab": {
          "base_uri": "https://localhost:8080/"
        },
        "outputId": "14e45e3d-139d-46b3-a596-34e84bdde5cb"
      },
      "execution_count": 27,
      "outputs": [
        {
          "output_type": "stream",
          "name": "stdout",
          "text": [
            "Enter a value: 45\n",
            "As integer: 45\n",
            "As float: 45.0\n",
            "As boolean: True\n"
          ]
        }
      ]
    },
    {
      "cell_type": "code",
      "source": [
        "#10. Write code to demonstrate type casting with list elements.\n",
        "lst = [\"1\", \"2\", \"3\"]\n",
        "int_lst = [int(i) for i in lst]\n",
        "print(\"Original list:\", lst)\n",
        "print(\"Converted to integers:\", int_lst)"
      ],
      "metadata": {
        "id": "GywbsHoY3aPf",
        "colab": {
          "base_uri": "https://localhost:8080/"
        },
        "outputId": "4a709a99-6e0f-4e5a-e381-4c4582a1874f"
      },
      "execution_count": 28,
      "outputs": [
        {
          "output_type": "stream",
          "name": "stdout",
          "text": [
            "Original list: ['1', '2', '3']\n",
            "Converted to integers: [1, 2, 3]\n"
          ]
        }
      ]
    },
    {
      "cell_type": "code",
      "source": [
        "#11. Write a program that checks if a number is positive, negative, or zero.\n",
        "num = int(input(\"Enter a number: \"))\n",
        "if num > 0:\n",
        " print(\"Positive\")\n",
        "elif num < 0:\n",
        " print(\"Negative\")\n",
        "else:\n",
        " print(\"Zero\")"
      ],
      "metadata": {
        "id": "5FeDIP7i3spi",
        "colab": {
          "base_uri": "https://localhost:8080/"
        },
        "outputId": "c8ff74fb-2d7d-499f-ee94-8d44b50f4adc"
      },
      "execution_count": 29,
      "outputs": [
        {
          "output_type": "stream",
          "name": "stdout",
          "text": [
            "Enter a number: 7\n",
            "Positive\n"
          ]
        }
      ]
    },
    {
      "cell_type": "code",
      "source": [
        "#12. Write a for loop to print numbers from 1 to 10.\n",
        "for i in range(1, 11):\n",
        " print(i)"
      ],
      "metadata": {
        "id": "GWWF28oS30ej",
        "colab": {
          "base_uri": "https://localhost:8080/"
        },
        "outputId": "cf1192f9-829f-4216-906f-cb1dd560ac66"
      },
      "execution_count": 30,
      "outputs": [
        {
          "output_type": "stream",
          "name": "stdout",
          "text": [
            "1\n",
            "2\n",
            "3\n",
            "4\n",
            "5\n",
            "6\n",
            "7\n",
            "8\n",
            "9\n",
            "10\n"
          ]
        }
      ]
    },
    {
      "cell_type": "code",
      "source": [
        "#13. Write a Python program to find the sum of all even numbers between 1 and 50.\n",
        "total = 0\n",
        "for i in range(2, 51, 2):\n",
        " total += i\n",
        "print(\"Sum of even numbers from 1 to 50:\", total)"
      ],
      "metadata": {
        "id": "8nMkgzO0398R",
        "colab": {
          "base_uri": "https://localhost:8080/"
        },
        "outputId": "ecb404f8-6e49-4ba6-a63b-251ac232e707"
      },
      "execution_count": 31,
      "outputs": [
        {
          "output_type": "stream",
          "name": "stdout",
          "text": [
            "Sum of even numbers from 1 to 50: 650\n"
          ]
        }
      ]
    },
    {
      "cell_type": "code",
      "source": [
        "#14. Write a program to reverse a string using a while loop.\n",
        "s = input(\"Enter a string: \")\n",
        "rev = \"\"\n",
        "i = len(s) - 1\n",
        "while i >= 0:\n",
        " rev += s[i]\n",
        " i -= 1\n",
        "print(\"Reversed string:\", rev)"
      ],
      "metadata": {
        "id": "347-nCvE4SgI",
        "colab": {
          "base_uri": "https://localhost:8080/"
        },
        "outputId": "7be83a38-f991-49e0-e628-50816cadbac4"
      },
      "execution_count": 32,
      "outputs": [
        {
          "output_type": "stream",
          "name": "stdout",
          "text": [
            "Enter a string: Parsanjeet\n",
            "Reversed string: teejnasraP\n"
          ]
        }
      ]
    },
    {
      "cell_type": "code",
      "source": [
        "#15. Write a Python program to calculate the factorial of a number provided by the user using a while loop.\n",
        "n = int(input(\"Enter a number: \"))\n",
        "fact = 1\n",
        "while n > 0:\n",
        " fact *= n\n",
        " n -= 1\n",
        "print(\"Factorial:\", fact)"
      ],
      "metadata": {
        "id": "K3RmskfO4Wsw",
        "colab": {
          "base_uri": "https://localhost:8080/"
        },
        "outputId": "ec5e4625-4310-4dc2-d4ef-648c9056aace"
      },
      "execution_count": 33,
      "outputs": [
        {
          "output_type": "stream",
          "name": "stdout",
          "text": [
            "Enter a number: 78\n",
            "Factorial: 11324281178206297831457521158732046228731749579488251990048962825668835325234200766245086213177344000000000000000000\n"
          ]
        }
      ]
    }
  ]
}